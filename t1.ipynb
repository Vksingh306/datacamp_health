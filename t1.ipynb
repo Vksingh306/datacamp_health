{
 "cells": [
  {
   "cell_type": "code",
   "execution_count": 2,
   "metadata": {},
   "outputs": [],
   "source": [
    "import pandas as pd\n",
    "import numpy as np\n",
    "import matplotlib.pyplot as plt\n",
    "import seaborn as sns"
   ]
  },
  {
   "cell_type": "code",
   "execution_count": 71,
   "metadata": {},
   "outputs": [],
   "source": [
    "data = pd.read_csv('health_revenue.csv')"
   ]
  },
  {
   "cell_type": "code",
   "execution_count": 72,
   "metadata": {},
   "outputs": [
    {
     "data": {
      "text/html": [
       "<div>\n",
       "<style scoped>\n",
       "    .dataframe tbody tr th:only-of-type {\n",
       "        vertical-align: middle;\n",
       "    }\n",
       "\n",
       "    .dataframe tbody tr th {\n",
       "        vertical-align: top;\n",
       "    }\n",
       "\n",
       "    .dataframe thead th {\n",
       "        text-align: right;\n",
       "    }\n",
       "</style>\n",
       "<table border=\"1\" class=\"dataframe\">\n",
       "  <thead>\n",
       "    <tr style=\"text-align: right;\">\n",
       "      <th></th>\n",
       "      <th>clinic_id</th>\n",
       "      <th>ownership</th>\n",
       "      <th>hospital_location</th>\n",
       "      <th>admitted_patients</th>\n",
       "      <th>nurse_patient_ratio</th>\n",
       "      <th>ed_visits</th>\n",
       "      <th>satisfaction_score</th>\n",
       "      <th>revenue</th>\n",
       "    </tr>\n",
       "  </thead>\n",
       "  <tbody>\n",
       "    <tr>\n",
       "      <th>0</th>\n",
       "      <td>1847</td>\n",
       "      <td>Profit</td>\n",
       "      <td>Urban</td>\n",
       "      <td>23</td>\n",
       "      <td>0.40</td>\n",
       "      <td>12</td>\n",
       "      <td>2.04</td>\n",
       "      <td>55684.18</td>\n",
       "    </tr>\n",
       "    <tr>\n",
       "      <th>1</th>\n",
       "      <td>422</td>\n",
       "      <td>Profit</td>\n",
       "      <td>Urban</td>\n",
       "      <td>22</td>\n",
       "      <td>0.60</td>\n",
       "      <td>11</td>\n",
       "      <td>2.77</td>\n",
       "      <td>117115.85</td>\n",
       "    </tr>\n",
       "    <tr>\n",
       "      <th>2</th>\n",
       "      <td>1843</td>\n",
       "      <td>Public</td>\n",
       "      <td>Rural</td>\n",
       "      <td>47</td>\n",
       "      <td>0.37</td>\n",
       "      <td>31</td>\n",
       "      <td>3.13</td>\n",
       "      <td>72794.56</td>\n",
       "    </tr>\n",
       "    <tr>\n",
       "      <th>3</th>\n",
       "      <td>14</td>\n",
       "      <td>Non-Profit</td>\n",
       "      <td>Urban</td>\n",
       "      <td>20</td>\n",
       "      <td>0.06</td>\n",
       "      <td>47</td>\n",
       "      <td>1.30</td>\n",
       "      <td>87447.23</td>\n",
       "    </tr>\n",
       "    <tr>\n",
       "      <th>4</th>\n",
       "      <td>1880</td>\n",
       "      <td>Public</td>\n",
       "      <td>Rural</td>\n",
       "      <td>33</td>\n",
       "      <td>0.94</td>\n",
       "      <td>40</td>\n",
       "      <td>5.90</td>\n",
       "      <td>88848.01</td>\n",
       "    </tr>\n",
       "    <tr>\n",
       "      <th>...</th>\n",
       "      <td>...</td>\n",
       "      <td>...</td>\n",
       "      <td>...</td>\n",
       "      <td>...</td>\n",
       "      <td>...</td>\n",
       "      <td>...</td>\n",
       "      <td>...</td>\n",
       "      <td>...</td>\n",
       "    </tr>\n",
       "    <tr>\n",
       "      <th>1985</th>\n",
       "      <td>112</td>\n",
       "      <td>Profit</td>\n",
       "      <td>Urban</td>\n",
       "      <td>46</td>\n",
       "      <td>0.99</td>\n",
       "      <td>46</td>\n",
       "      <td>5.62</td>\n",
       "      <td>138695.55</td>\n",
       "    </tr>\n",
       "    <tr>\n",
       "      <th>1986</th>\n",
       "      <td>257</td>\n",
       "      <td>Public</td>\n",
       "      <td>-</td>\n",
       "      <td>15</td>\n",
       "      <td>0.23</td>\n",
       "      <td>33</td>\n",
       "      <td>2.95</td>\n",
       "      <td>134584.60</td>\n",
       "    </tr>\n",
       "    <tr>\n",
       "      <th>1987</th>\n",
       "      <td>843</td>\n",
       "      <td>Public</td>\n",
       "      <td>Rural</td>\n",
       "      <td>49</td>\n",
       "      <td>0.13</td>\n",
       "      <td>17</td>\n",
       "      <td>1.94</td>\n",
       "      <td>110533.42</td>\n",
       "    </tr>\n",
       "    <tr>\n",
       "      <th>1988</th>\n",
       "      <td>733</td>\n",
       "      <td>Public</td>\n",
       "      <td>Rural</td>\n",
       "      <td>30</td>\n",
       "      <td>0.90</td>\n",
       "      <td>49</td>\n",
       "      <td>NaN</td>\n",
       "      <td>136719.84</td>\n",
       "    </tr>\n",
       "    <tr>\n",
       "      <th>1989</th>\n",
       "      <td>71</td>\n",
       "      <td>Profit</td>\n",
       "      <td>Rural</td>\n",
       "      <td>3</td>\n",
       "      <td>0.96</td>\n",
       "      <td>18</td>\n",
       "      <td>NaN</td>\n",
       "      <td>85022.75</td>\n",
       "    </tr>\n",
       "  </tbody>\n",
       "</table>\n",
       "<p>1990 rows × 8 columns</p>\n",
       "</div>"
      ],
      "text/plain": [
       "      clinic_id   ownership hospital_location  admitted_patients  \\\n",
       "0          1847      Profit             Urban                 23   \n",
       "1           422      Profit             Urban                 22   \n",
       "2          1843      Public             Rural                 47   \n",
       "3            14  Non-Profit             Urban                 20   \n",
       "4          1880      Public             Rural                 33   \n",
       "...         ...         ...               ...                ...   \n",
       "1985        112      Profit             Urban                 46   \n",
       "1986        257      Public                 -                 15   \n",
       "1987        843      Public             Rural                 49   \n",
       "1988        733      Public             Rural                 30   \n",
       "1989         71      Profit             Rural                  3   \n",
       "\n",
       "      nurse_patient_ratio  ed_visits  satisfaction_score    revenue  \n",
       "0                    0.40         12                2.04   55684.18  \n",
       "1                    0.60         11                2.77  117115.85  \n",
       "2                    0.37         31                3.13   72794.56  \n",
       "3                    0.06         47                1.30   87447.23  \n",
       "4                    0.94         40                5.90   88848.01  \n",
       "...                   ...        ...                 ...        ...  \n",
       "1985                 0.99         46                5.62  138695.55  \n",
       "1986                 0.23         33                2.95  134584.60  \n",
       "1987                 0.13         17                1.94  110533.42  \n",
       "1988                 0.90         49                 NaN  136719.84  \n",
       "1989                 0.96         18                 NaN   85022.75  \n",
       "\n",
       "[1990 rows x 8 columns]"
      ]
     },
     "execution_count": 72,
     "metadata": {},
     "output_type": "execute_result"
    }
   ],
   "source": [
    "data"
   ]
  },
  {
   "cell_type": "markdown",
   "metadata": {},
   "source": [
    "Data Validation"
   ]
  },
  {
   "cell_type": "code",
   "execution_count": 73,
   "metadata": {},
   "outputs": [
    {
     "name": "stdout",
     "output_type": "stream",
     "text": [
      "[1847  422 1843 ... 1346  257   71]\n",
      "1877    7\n",
      "153     5\n",
      "991     5\n",
      "441     5\n",
      "546     4\n",
      "       ..\n",
      "635     1\n",
      "905     1\n",
      "88      1\n",
      "824     1\n",
      "71      1\n",
      "Name: clinic_id, Length: 1241, dtype: int64\n",
      "0\n",
      "0.0\n"
     ]
    }
   ],
   "source": [
    "# perform data validation and data cleaning checks for each column\n",
    "print(data['clinic_id'].unique())\n",
    "print(data['clinic_id'].value_counts())\n",
    "print(data['clinic_id'].isnull().sum())\n",
    "print(data['clinic_id'].isnull().sum() / len(data['clinic_id']) * 100)\n",
    "\n",
    "# result - no null values, clinic_id can be used multiple times\n"
   ]
  },
  {
   "cell_type": "code",
   "execution_count": 74,
   "metadata": {},
   "outputs": [
    {
     "name": "stdout",
     "output_type": "stream",
     "text": [
      "Details for column:  clinic_id\n",
      "1877    7\n",
      "153     5\n",
      "991     5\n",
      "441     5\n",
      "546     4\n",
      "       ..\n",
      "635     1\n",
      "905     1\n",
      "88      1\n",
      "824     1\n",
      "71      1\n",
      "Name: clinic_id, Length: 1241, dtype: int64\n",
      "0\n",
      "0.0\n",
      "Details for column:  ownership\n",
      "Profit         987\n",
      "Public         566\n",
      "Non-Profit     398\n",
      "non_profitt     39\n",
      "Name: ownership, dtype: int64\n",
      "0\n",
      "0.0\n",
      "Details for column:  hospital_location\n",
      "Urban    1109\n",
      "Rural     762\n",
      "-         119\n",
      "Name: hospital_location, dtype: int64\n",
      "0\n",
      "0.0\n",
      "Details for column:  admitted_patients\n",
      "16    56\n",
      "5     52\n",
      "17    52\n",
      "43    51\n",
      "22    50\n",
      "36    47\n",
      "46    47\n",
      "44    47\n",
      "38    46\n",
      "4     46\n",
      "35    46\n",
      "7     45\n",
      "45    44\n",
      "13    43\n",
      "40    43\n",
      "48    43\n",
      "28    43\n",
      "20    43\n",
      "47    43\n",
      "25    42\n",
      "19    42\n",
      "41    42\n",
      "18    41\n",
      "23    41\n",
      "15    41\n",
      "24    41\n",
      "30    40\n",
      "32    40\n",
      "2     39\n",
      "1     39\n",
      "39    39\n",
      "37    39\n",
      "27    37\n",
      "10    37\n",
      "26    37\n",
      "29    37\n",
      "11    37\n",
      "12    36\n",
      "3     36\n",
      "34    36\n",
      "33    36\n",
      "49    35\n",
      "42    34\n",
      "21    34\n",
      "9     33\n",
      "8     31\n",
      "14    30\n",
      "31    29\n",
      "6     22\n",
      "Name: admitted_patients, dtype: int64\n",
      "0\n",
      "0.0\n",
      "Details for column:  nurse_patient_ratio\n",
      "0.63    32\n",
      "0.34    29\n",
      "0.88    29\n",
      "0.38    28\n",
      "0.45    28\n",
      "        ..\n",
      "0.08    12\n",
      "0.87    11\n",
      "0.91    11\n",
      "1.00     8\n",
      "0.00     7\n",
      "Name: nurse_patient_ratio, Length: 101, dtype: int64\n",
      "0\n",
      "0.0\n",
      "Details for column:  ed_visits\n",
      " 11    51\n",
      " 17    50\n",
      " 8     49\n",
      " 46    47\n",
      " 42    47\n",
      "       ..\n",
      "-3      1\n",
      "-46     1\n",
      "-17     1\n",
      "-1      1\n",
      "-26     1\n",
      "Name: ed_visits, Length: 83, dtype: int64\n",
      "0\n",
      "0.0\n",
      "Details for column:  satisfaction_score\n",
      "1.95    10\n",
      "3.20     9\n",
      "2.95     9\n",
      "1.57     8\n",
      "1.87     8\n",
      "        ..\n",
      "5.22     1\n",
      "5.03     1\n",
      "8.35     1\n",
      "6.61     1\n",
      "8.45     1\n",
      "Name: satisfaction_score, Length: 674, dtype: int64\n",
      "159\n",
      "7.989949748743719\n",
      "Details for column:  revenue\n",
      "55684.18     1\n",
      "134771.21    1\n",
      "63819.77     1\n",
      "130445.24    1\n",
      "88571.71     1\n",
      "            ..\n",
      "118676.33    1\n",
      "34578.81     1\n",
      "60685.28     1\n",
      "124119.10    1\n",
      "85022.75     1\n",
      "Name: revenue, Length: 1990, dtype: int64\n",
      "0\n",
      "0.0\n"
     ]
    }
   ],
   "source": [
    "for col in data.columns:\n",
    "    print('Details for column: ', col)\n",
    "    #print(data[col].unique())\n",
    "    print(data[col].value_counts())\n",
    "    print(data[col].isnull().sum())   \n",
    "    print(data[col].isnull().sum() / len(data[col]) * 100)"
   ]
  },
  {
   "cell_type": "code",
   "execution_count": 75,
   "metadata": {},
   "outputs": [],
   "source": [
    "# result - in ownership column two values should be same 'Non-Profit' and 'non-profitt'. \n",
    "# Removing this spelling mistake and naming all values as 'Non-Profit'\n",
    "\n",
    "# for 119 rows, hospital_type is '-', replacing it with 'Not Available'\n",
    "\n",
    "# for 159 rows, satisfaction score is null, repl\n",
    "\n",
    "# for column ed_visits, only positive integer values should exist, but data has negative values as well\n"
   ]
  },
  {
   "cell_type": "code",
   "execution_count": 76,
   "metadata": {},
   "outputs": [
    {
     "data": {
      "image/png": "[encoded data removed]",
      "text/plain": [
       "<Figure size 720x432 with 1 Axes>"
      ]
     },
     "metadata": {
      "needs_background": "light"
     },
     "output_type": "display_data"
    }
   ],
   "source": [
    "# data cleaning and validation for each columns\n",
    "# col - clinic_id\n",
    "column_to_visualize = 'clinic_id'\n",
    "\n",
    "plt.figure(figsize=(10, 6))\n",
    "plt.hist(data[column_to_visualize], bins=1000, color='skyblue', edgecolor='black')\n",
    "plt.title(f'Distribution of values in {column_to_visualize}')\n",
    "plt.xlabel(column_to_visualize)\n",
    "plt.ylabel('Frequency')\n",
    "plt.grid(True)\n",
    "plt.show()"
   ]
  },
  {
   "cell_type": "code",
   "execution_count": 77,
   "metadata": {},
   "outputs": [],
   "source": [
    "# clinic_id should be unique for each row, but it is not\n"
   ]
  },
  {
   "cell_type": "code",
   "execution_count": 78,
   "metadata": {},
   "outputs": [
    {
     "data": {
      "text/plain": [
       "Profit        987\n",
       "Public        566\n",
       "Non-Profit    437\n",
       "Name: ownership, dtype: int64"
      ]
     },
     "execution_count": 78,
     "metadata": {},
     "output_type": "execute_result"
    }
   ],
   "source": [
    "# col - ownership\n",
    "# replacing 'non-profitt' with 'Non-Profit'\n",
    "data['ownership'] = data['ownership'].replace('non_profitt', 'Non-Profit')\n",
    "data['ownership'].value_counts()"
   ]
  },
  {
   "cell_type": "code",
   "execution_count": 79,
   "metadata": {},
   "outputs": [
    {
     "data": {
      "text/plain": [
       "Rural    1492\n",
       "Urban     498\n",
       "Name: hospital_location, dtype: int64"
      ]
     },
     "execution_count": 79,
     "metadata": {},
     "output_type": "execute_result"
    }
   ],
   "source": [
    "# col - hospital_type\n",
    "# we assume that hospitals above 75 percentile in revenue are urban and below are rural\n",
    "\n",
    "# 75 percentile\n",
    "np.percentile(data['revenue'], 75)\n",
    "\n",
    "data['hospital_location'] = np.where(data['revenue'] > np.percentile(data['revenue'], 75), 'Urban', 'Rural')\n",
    "data['hospital_location'].value_counts()"
   ]
  },
  {
   "cell_type": "code",
   "execution_count": 80,
   "metadata": {},
   "outputs": [],
   "source": [
    "# col - satisfaction_score\n",
    "# seeing statistics of satisfaction_score to decide how to replace null values\n",
    "data['satisfaction_score'].describe()\n",
    "\n",
    "# replacing null values with median, as it is more robust to outliers\n",
    "# also we would like to replace by fitting satisfaction_score using a linear regression model, \n",
    "# but we don't have enough time to do that\n",
    "\n",
    "data['satisfaction_score'] = data['satisfaction_score'].fillna(data['satisfaction_score'].median())"
   ]
  },
  {
   "cell_type": "code",
   "execution_count": 81,
   "metadata": {},
   "outputs": [
    {
     "name": "stdout",
     "output_type": "stream",
     "text": [
      "59\n"
     ]
    }
   ],
   "source": [
    "# col - ed_visits\n",
    "# number of negative values  \n",
    "print(data['ed_visits'][data['ed_visits'] < 0].count())\n",
    "\n",
    "# replacing negative values by removing the negative sign, as we assume negative sign to be a human error or data entry error,\n",
    "# other wise it would not make sense for negative values to exist in this column\n",
    "data['ed_visits'] = np.abs(data['ed_visits'])"
   ]
  },
  {
   "cell_type": "code",
   "execution_count": 82,
   "metadata": {},
   "outputs": [
    {
     "data": {
      "text/plain": [
       "0"
      ]
     },
     "execution_count": 82,
     "metadata": {},
     "output_type": "execute_result"
    }
   ],
   "source": [
    "#check for duplicate values\n",
    "data.duplicated().sum()"
   ]
  },
  {
   "cell_type": "code",
   "execution_count": 83,
   "metadata": {},
   "outputs": [
    {
     "data": {
      "text/html": [
       "<div>\n",
       "<style scoped>\n",
       "    .dataframe tbody tr th:only-of-type {\n",
       "        vertical-align: middle;\n",
       "    }\n",
       "\n",
       "    .dataframe tbody tr th {\n",
       "        vertical-align: top;\n",
       "    }\n",
       "\n",
       "    .dataframe thead th {\n",
       "        text-align: right;\n",
       "    }\n",
       "</style>\n",
       "<table border=\"1\" class=\"dataframe\">\n",
       "  <thead>\n",
       "    <tr style=\"text-align: right;\">\n",
       "      <th></th>\n",
       "      <th>clinic_id</th>\n",
       "      <th>ownership</th>\n",
       "      <th>hospital_location</th>\n",
       "      <th>admitted_patients</th>\n",
       "      <th>nurse_patient_ratio</th>\n",
       "      <th>ed_visits</th>\n",
       "      <th>satisfaction_score</th>\n",
       "      <th>revenue</th>\n",
       "    </tr>\n",
       "  </thead>\n",
       "  <tbody>\n",
       "    <tr>\n",
       "      <th>0</th>\n",
       "      <td>1847</td>\n",
       "      <td>Profit</td>\n",
       "      <td>Rural</td>\n",
       "      <td>23</td>\n",
       "      <td>0.40</td>\n",
       "      <td>12</td>\n",
       "      <td>2.04</td>\n",
       "      <td>55684.18</td>\n",
       "    </tr>\n",
       "    <tr>\n",
       "      <th>1</th>\n",
       "      <td>422</td>\n",
       "      <td>Profit</td>\n",
       "      <td>Urban</td>\n",
       "      <td>22</td>\n",
       "      <td>0.60</td>\n",
       "      <td>11</td>\n",
       "      <td>2.77</td>\n",
       "      <td>117115.85</td>\n",
       "    </tr>\n",
       "    <tr>\n",
       "      <th>2</th>\n",
       "      <td>1843</td>\n",
       "      <td>Public</td>\n",
       "      <td>Rural</td>\n",
       "      <td>47</td>\n",
       "      <td>0.37</td>\n",
       "      <td>31</td>\n",
       "      <td>3.13</td>\n",
       "      <td>72794.56</td>\n",
       "    </tr>\n",
       "    <tr>\n",
       "      <th>3</th>\n",
       "      <td>14</td>\n",
       "      <td>Non-Profit</td>\n",
       "      <td>Rural</td>\n",
       "      <td>20</td>\n",
       "      <td>0.06</td>\n",
       "      <td>47</td>\n",
       "      <td>1.30</td>\n",
       "      <td>87447.23</td>\n",
       "    </tr>\n",
       "    <tr>\n",
       "      <th>4</th>\n",
       "      <td>1880</td>\n",
       "      <td>Public</td>\n",
       "      <td>Rural</td>\n",
       "      <td>33</td>\n",
       "      <td>0.94</td>\n",
       "      <td>40</td>\n",
       "      <td>5.90</td>\n",
       "      <td>88848.01</td>\n",
       "    </tr>\n",
       "    <tr>\n",
       "      <th>...</th>\n",
       "      <td>...</td>\n",
       "      <td>...</td>\n",
       "      <td>...</td>\n",
       "      <td>...</td>\n",
       "      <td>...</td>\n",
       "      <td>...</td>\n",
       "      <td>...</td>\n",
       "      <td>...</td>\n",
       "    </tr>\n",
       "    <tr>\n",
       "      <th>1985</th>\n",
       "      <td>112</td>\n",
       "      <td>Profit</td>\n",
       "      <td>Urban</td>\n",
       "      <td>46</td>\n",
       "      <td>0.99</td>\n",
       "      <td>46</td>\n",
       "      <td>5.62</td>\n",
       "      <td>138695.55</td>\n",
       "    </tr>\n",
       "    <tr>\n",
       "      <th>1986</th>\n",
       "      <td>257</td>\n",
       "      <td>Public</td>\n",
       "      <td>Urban</td>\n",
       "      <td>15</td>\n",
       "      <td>0.23</td>\n",
       "      <td>33</td>\n",
       "      <td>2.95</td>\n",
       "      <td>134584.60</td>\n",
       "    </tr>\n",
       "    <tr>\n",
       "      <th>1987</th>\n",
       "      <td>843</td>\n",
       "      <td>Public</td>\n",
       "      <td>Rural</td>\n",
       "      <td>49</td>\n",
       "      <td>0.13</td>\n",
       "      <td>17</td>\n",
       "      <td>1.94</td>\n",
       "      <td>110533.42</td>\n",
       "    </tr>\n",
       "    <tr>\n",
       "      <th>1988</th>\n",
       "      <td>733</td>\n",
       "      <td>Public</td>\n",
       "      <td>Urban</td>\n",
       "      <td>30</td>\n",
       "      <td>0.90</td>\n",
       "      <td>49</td>\n",
       "      <td>3.44</td>\n",
       "      <td>136719.84</td>\n",
       "    </tr>\n",
       "    <tr>\n",
       "      <th>1989</th>\n",
       "      <td>71</td>\n",
       "      <td>Profit</td>\n",
       "      <td>Rural</td>\n",
       "      <td>3</td>\n",
       "      <td>0.96</td>\n",
       "      <td>18</td>\n",
       "      <td>3.44</td>\n",
       "      <td>85022.75</td>\n",
       "    </tr>\n",
       "  </tbody>\n",
       "</table>\n",
       "<p>1990 rows × 8 columns</p>\n",
       "</div>"
      ],
      "text/plain": [
       "      clinic_id   ownership hospital_location  admitted_patients  \\\n",
       "0          1847      Profit             Rural                 23   \n",
       "1           422      Profit             Urban                 22   \n",
       "2          1843      Public             Rural                 47   \n",
       "3            14  Non-Profit             Rural                 20   \n",
       "4          1880      Public             Rural                 33   \n",
       "...         ...         ...               ...                ...   \n",
       "1985        112      Profit             Urban                 46   \n",
       "1986        257      Public             Urban                 15   \n",
       "1987        843      Public             Rural                 49   \n",
       "1988        733      Public             Urban                 30   \n",
       "1989         71      Profit             Rural                  3   \n",
       "\n",
       "      nurse_patient_ratio  ed_visits  satisfaction_score    revenue  \n",
       "0                    0.40         12                2.04   55684.18  \n",
       "1                    0.60         11                2.77  117115.85  \n",
       "2                    0.37         31                3.13   72794.56  \n",
       "3                    0.06         47                1.30   87447.23  \n",
       "4                    0.94         40                5.90   88848.01  \n",
       "...                   ...        ...                 ...        ...  \n",
       "1985                 0.99         46                5.62  138695.55  \n",
       "1986                 0.23         33                2.95  134584.60  \n",
       "1987                 0.13         17                1.94  110533.42  \n",
       "1988                 0.90         49                3.44  136719.84  \n",
       "1989                 0.96         18                3.44   85022.75  \n",
       "\n",
       "[1990 rows x 8 columns]"
      ]
     },
     "execution_count": 83,
     "metadata": {},
     "output_type": "execute_result"
    }
   ],
   "source": [
    "data"
   ]
  },
  {
   "cell_type": "markdown",
   "metadata": {},
   "source": [
    "Data Visualization"
   ]
  },
  {
   "cell_type": "code",
   "execution_count": 84,
   "metadata": {},
   "outputs": [
    {
     "data": {
      "image/png": "[encoded data removed]",
      "text/plain": [
       "<Figure size 720x432 with 1 Axes>"
      ]
     },
     "metadata": {
      "needs_background": "light"
     },
     "output_type": "display_data"
    }
   ],
   "source": [
    "# data cleaning and validation for each columns\n",
    "# col - clinic_id\n",
    "column_to_visualize = 'clinic_id'\n",
    "\n",
    "plt.figure(figsize=(10, 6))\n",
    "plt.hist(data[column_to_visualize], bins=1000, color='skyblue', edgecolor='black')\n",
    "plt.title(f'Distribution of values in {column_to_visualize}')\n",
    "plt.xlabel(column_to_visualize)\n",
    "plt.ylabel('Frequency')\n",
    "plt.grid(True)\n",
    "plt.show()"
   ]
  },
  {
   "cell_type": "code",
   "execution_count": 85,
   "metadata": {},
   "outputs": [
    {
     "data": {
      "image/png": "[encoded data removed]",
      "text/plain": [
       "<Figure size 576x360 with 1 Axes>"
      ]
     },
     "metadata": {
      "needs_background": "light"
     },
     "output_type": "display_data"
    }
   ],
   "source": [
    "value_counts = data['hospital_location'].value_counts()\n",
    "\n",
    "# Plotting a bar chart\n",
    "plt.figure(figsize=(8, 5))\n",
    "value_counts.plot(kind='bar', color='skyblue', edgecolor='black')\n",
    "plt.title('Count of Unique Values in Column2')\n",
    "plt.xlabel('Unique Values')\n",
    "plt.ylabel('Count')\n",
    "plt.xticks(rotation=0)  # Rotate x-axis labels if needed\n",
    "plt.show()"
   ]
  },
  {
   "cell_type": "code",
   "execution_count": 86,
   "metadata": {},
   "outputs": [
    {
     "data": {
      "image/png": "[encoded data removed]",
      "text/plain": [
       "<Figure size 720x432 with 1 Axes>"
      ]
     },
     "metadata": {
      "needs_background": "light"
     },
     "output_type": "display_data"
    }
   ],
   "source": [
    "column_to_visualize = 'satisfaction_score'\n",
    "\n",
    "plt.figure(figsize=(10, 6))\n",
    "plt.hist(data[column_to_visualize], bins=10, color='skyblue', edgecolor='black')\n",
    "plt.title(f'Distribution of values in {column_to_visualize}')\n",
    "plt.xlabel(column_to_visualize)\n",
    "plt.ylabel('Frequency')\n",
    "plt.grid(True)\n",
    "plt.show()"
   ]
  },
  {
   "cell_type": "code",
   "execution_count": 87,
   "metadata": {},
   "outputs": [
    {
     "data": {
      "image/png": "[encoded data removed]",
      "text/plain": [
       "<Figure size 576x360 with 1 Axes>"
      ]
     },
     "metadata": {
      "needs_background": "light"
     },
     "output_type": "display_data"
    }
   ],
   "source": [
    "# we want to see how satisfaction_score is related with revenue\n",
    "plt.figure(figsize=(8, 5))\n",
    "plt.scatter(data['satisfaction_score'], data['revenue'], color='blue')\n",
    "plt.title('Relationship between Satisfaction Score and Revenue')\n",
    "plt.xlabel('Satisfaction Score')\n",
    "plt.ylabel('Revenue')\n",
    "plt.grid(True)\n",
    "plt.show()\n",
    "\n",
    "# observation - satisfaction_score and revenue are not related and there seems to be a uniform distribution\n",
    "# also there are no data points around 50% satisfaction_score, which is a bit strange"
   ]
  },
  {
   "cell_type": "code",
   "execution_count": 98,
   "metadata": {},
   "outputs": [
    {
     "data": {
      "image/png": "[encoded data removed]",
      "text/plain": [
       "<Figure size 576x360 with 1 Axes>"
      ]
     },
     "metadata": {
      "needs_background": "light"
     },
     "output_type": "display_data"
    }
   ],
   "source": [
    "# we want to see how satisfaction_score is related with nurse_patient_ratio\n",
    "plt.figure(figsize=(8, 5))\n",
    "plt.scatter(data['satisfaction_score'], data['nurse_patient_ratio'], color='blue')\n",
    "plt.title('Relationship between Satisfaction Score and Nurse Patient Ratio')\n",
    "plt.xlabel('Satisfaction Score')\n",
    "plt.ylabel('Nurse_patient_ratio')\n",
    "plt.grid(True)\n",
    "plt.show()\n",
    "\n",
    "# there is a clear relationship between satisfaction_score and nurse_patient_ratio\n",
    "# hospitals with higher nurse_patient_ratio have higher satisfaction_score"
   ]
  },
  {
   "cell_type": "markdown",
   "metadata": {},
   "source": [
    "Model Development"
   ]
  },
  {
   "cell_type": "code",
   "execution_count": 88,
   "metadata": {},
   "outputs": [
    {
     "data": {
      "text/html": [
       "<div>\n",
       "<style scoped>\n",
       "    .dataframe tbody tr th:only-of-type {\n",
       "        vertical-align: middle;\n",
       "    }\n",
       "\n",
       "    .dataframe tbody tr th {\n",
       "        vertical-align: top;\n",
       "    }\n",
       "\n",
       "    .dataframe thead th {\n",
       "        text-align: right;\n",
       "    }\n",
       "</style>\n",
       "<table border=\"1\" class=\"dataframe\">\n",
       "  <thead>\n",
       "    <tr style=\"text-align: right;\">\n",
       "      <th></th>\n",
       "      <th>admitted_patients</th>\n",
       "      <th>nurse_patient_ratio</th>\n",
       "      <th>ed_visits</th>\n",
       "      <th>satisfaction_score</th>\n",
       "      <th>revenue</th>\n",
       "      <th>ownership_Non-Profit</th>\n",
       "      <th>ownership_Profit</th>\n",
       "      <th>ownership_Public</th>\n",
       "      <th>hospital_location_Rural</th>\n",
       "      <th>hospital_location_Urban</th>\n",
       "    </tr>\n",
       "  </thead>\n",
       "  <tbody>\n",
       "    <tr>\n",
       "      <th>0</th>\n",
       "      <td>23</td>\n",
       "      <td>0.40</td>\n",
       "      <td>12</td>\n",
       "      <td>2.04</td>\n",
       "      <td>55684.18</td>\n",
       "      <td>0</td>\n",
       "      <td>1</td>\n",
       "      <td>0</td>\n",
       "      <td>1</td>\n",
       "      <td>0</td>\n",
       "    </tr>\n",
       "    <tr>\n",
       "      <th>1</th>\n",
       "      <td>22</td>\n",
       "      <td>0.60</td>\n",
       "      <td>11</td>\n",
       "      <td>2.77</td>\n",
       "      <td>117115.85</td>\n",
       "      <td>0</td>\n",
       "      <td>1</td>\n",
       "      <td>0</td>\n",
       "      <td>0</td>\n",
       "      <td>1</td>\n",
       "    </tr>\n",
       "    <tr>\n",
       "      <th>2</th>\n",
       "      <td>47</td>\n",
       "      <td>0.37</td>\n",
       "      <td>31</td>\n",
       "      <td>3.13</td>\n",
       "      <td>72794.56</td>\n",
       "      <td>0</td>\n",
       "      <td>0</td>\n",
       "      <td>1</td>\n",
       "      <td>1</td>\n",
       "      <td>0</td>\n",
       "    </tr>\n",
       "    <tr>\n",
       "      <th>3</th>\n",
       "      <td>20</td>\n",
       "      <td>0.06</td>\n",
       "      <td>47</td>\n",
       "      <td>1.30</td>\n",
       "      <td>87447.23</td>\n",
       "      <td>1</td>\n",
       "      <td>0</td>\n",
       "      <td>0</td>\n",
       "      <td>1</td>\n",
       "      <td>0</td>\n",
       "    </tr>\n",
       "    <tr>\n",
       "      <th>4</th>\n",
       "      <td>33</td>\n",
       "      <td>0.94</td>\n",
       "      <td>40</td>\n",
       "      <td>5.90</td>\n",
       "      <td>88848.01</td>\n",
       "      <td>0</td>\n",
       "      <td>0</td>\n",
       "      <td>1</td>\n",
       "      <td>1</td>\n",
       "      <td>0</td>\n",
       "    </tr>\n",
       "    <tr>\n",
       "      <th>...</th>\n",
       "      <td>...</td>\n",
       "      <td>...</td>\n",
       "      <td>...</td>\n",
       "      <td>...</td>\n",
       "      <td>...</td>\n",
       "      <td>...</td>\n",
       "      <td>...</td>\n",
       "      <td>...</td>\n",
       "      <td>...</td>\n",
       "      <td>...</td>\n",
       "    </tr>\n",
       "    <tr>\n",
       "      <th>1985</th>\n",
       "      <td>46</td>\n",
       "      <td>0.99</td>\n",
       "      <td>46</td>\n",
       "      <td>5.62</td>\n",
       "      <td>138695.55</td>\n",
       "      <td>0</td>\n",
       "      <td>1</td>\n",
       "      <td>0</td>\n",
       "      <td>0</td>\n",
       "      <td>1</td>\n",
       "    </tr>\n",
       "    <tr>\n",
       "      <th>1986</th>\n",
       "      <td>15</td>\n",
       "      <td>0.23</td>\n",
       "      <td>33</td>\n",
       "      <td>2.95</td>\n",
       "      <td>134584.60</td>\n",
       "      <td>0</td>\n",
       "      <td>0</td>\n",
       "      <td>1</td>\n",
       "      <td>0</td>\n",
       "      <td>1</td>\n",
       "    </tr>\n",
       "    <tr>\n",
       "      <th>1987</th>\n",
       "      <td>49</td>\n",
       "      <td>0.13</td>\n",
       "      <td>17</td>\n",
       "      <td>1.94</td>\n",
       "      <td>110533.42</td>\n",
       "      <td>0</td>\n",
       "      <td>0</td>\n",
       "      <td>1</td>\n",
       "      <td>1</td>\n",
       "      <td>0</td>\n",
       "    </tr>\n",
       "    <tr>\n",
       "      <th>1988</th>\n",
       "      <td>30</td>\n",
       "      <td>0.90</td>\n",
       "      <td>49</td>\n",
       "      <td>3.44</td>\n",
       "      <td>136719.84</td>\n",
       "      <td>0</td>\n",
       "      <td>0</td>\n",
       "      <td>1</td>\n",
       "      <td>0</td>\n",
       "      <td>1</td>\n",
       "    </tr>\n",
       "    <tr>\n",
       "      <th>1989</th>\n",
       "      <td>3</td>\n",
       "      <td>0.96</td>\n",
       "      <td>18</td>\n",
       "      <td>3.44</td>\n",
       "      <td>85022.75</td>\n",
       "      <td>0</td>\n",
       "      <td>1</td>\n",
       "      <td>0</td>\n",
       "      <td>1</td>\n",
       "      <td>0</td>\n",
       "    </tr>\n",
       "  </tbody>\n",
       "</table>\n",
       "<p>1990 rows × 10 columns</p>\n",
       "</div>"
      ],
      "text/plain": [
       "      admitted_patients  nurse_patient_ratio  ed_visits  satisfaction_score  \\\n",
       "0                    23                 0.40         12                2.04   \n",
       "1                    22                 0.60         11                2.77   \n",
       "2                    47                 0.37         31                3.13   \n",
       "3                    20                 0.06         47                1.30   \n",
       "4                    33                 0.94         40                5.90   \n",
       "...                 ...                  ...        ...                 ...   \n",
       "1985                 46                 0.99         46                5.62   \n",
       "1986                 15                 0.23         33                2.95   \n",
       "1987                 49                 0.13         17                1.94   \n",
       "1988                 30                 0.90         49                3.44   \n",
       "1989                  3                 0.96         18                3.44   \n",
       "\n",
       "        revenue  ownership_Non-Profit  ownership_Profit  ownership_Public  \\\n",
       "0      55684.18                     0                 1                 0   \n",
       "1     117115.85                     0                 1                 0   \n",
       "2      72794.56                     0                 0                 1   \n",
       "3      87447.23                     1                 0                 0   \n",
       "4      88848.01                     0                 0                 1   \n",
       "...         ...                   ...               ...               ...   \n",
       "1985  138695.55                     0                 1                 0   \n",
       "1986  134584.60                     0                 0                 1   \n",
       "1987  110533.42                     0                 0                 1   \n",
       "1988  136719.84                     0                 0                 1   \n",
       "1989   85022.75                     0                 1                 0   \n",
       "\n",
       "      hospital_location_Rural  hospital_location_Urban  \n",
       "0                           1                        0  \n",
       "1                           0                        1  \n",
       "2                           1                        0  \n",
       "3                           1                        0  \n",
       "4                           1                        0  \n",
       "...                       ...                      ...  \n",
       "1985                        0                        1  \n",
       "1986                        0                        1  \n",
       "1987                        1                        0  \n",
       "1988                        0                        1  \n",
       "1989                        1                        0  \n",
       "\n",
       "[1990 rows x 10 columns]"
      ]
     },
     "execution_count": 88,
     "metadata": {},
     "output_type": "execute_result"
    }
   ],
   "source": [
    "# the problem is maximising revenue generation - thus regression\n",
    "\n",
    "# we will use linear regression model to predict revenue\n",
    "# converting categorical variables to dummy variables\n",
    "data = pd.get_dummies(data, columns=['ownership', 'hospital_location'])\n",
    "\n",
    "# dropping clinic_id column as it is not needed for prediction\n",
    "data = data.drop(['clinic_id'], axis=1)\n",
    "\n",
    "data\n"
   ]
  },
  {
   "cell_type": "code",
   "execution_count": 89,
   "metadata": {},
   "outputs": [],
   "source": [
    "# train test split\n",
    "from sklearn.model_selection import train_test_split\n",
    "\n",
    "X = data.drop(['revenue'], axis=1)\n",
    "y = data['revenue']\n",
    "\n",
    "X_train, X_test, y_train, y_test = train_test_split(X, y, test_size=0.2, random_state=42)"
   ]
  },
  {
   "cell_type": "code",
   "execution_count": 90,
   "metadata": {},
   "outputs": [
    {
     "name": "stdout",
     "output_type": "stream",
     "text": [
      "Mean Squared Error:  327493330.19367373\n",
      "R2 Score:  0.6082599016220582\n"
     ]
    }
   ],
   "source": [
    "# scaling data\n",
    "from sklearn.preprocessing import StandardScaler\n",
    "\n",
    "scaler = StandardScaler()\n",
    "X_train = scaler.fit_transform(X_train)\n",
    "X_test = scaler.transform(X_test)\n",
    "\n",
    "# training model\n",
    "from sklearn.linear_model import LinearRegression\n",
    "\n",
    "model = LinearRegression()\n",
    "model.fit(X_train, y_train)\n",
    "\n",
    "# predicting on test data\n",
    "y_pred = model.predict(X_test)\n",
    "\n",
    "# evaluating model\n",
    "from sklearn.metrics import mean_squared_error, r2_score\n",
    "\n",
    "print('Mean Squared Error: ', mean_squared_error(y_test, y_pred))\n",
    "print('R2 Score: ', r2_score(y_test, y_pred))\n",
    "\n"
   ]
  },
  {
   "cell_type": "code",
   "execution_count": 91,
   "metadata": {},
   "outputs": [],
   "source": [
    "# results - we are getting a very high mean squared error and low r2 score, which means our model is not good\n",
    "# we can try other models like random forest, xgboost, etc. and see if we get better results"
   ]
  },
  {
   "cell_type": "code",
   "execution_count": 99,
   "metadata": {},
   "outputs": [
    {
     "name": "stdout",
     "output_type": "stream",
     "text": [
      "Mean Squared Error:  376282866.5443043\n",
      "R2 Score:  0.5498989641382102\n"
     ]
    }
   ],
   "source": [
    "# fitting random forest model\n",
    "from sklearn.ensemble import RandomForestRegressor\n",
    "\n",
    "model = RandomForestRegressor()\n",
    "model.fit(X_train, y_train)\n",
    "\n",
    "# predicting on test data\n",
    "y_pred = model.predict(X_test)\n",
    "\n",
    "# evaluating model\n",
    "print('Mean Squared Error: ', mean_squared_error(y_test, y_pred))\n",
    "print('R2 Score: ', r2_score(y_test, y_pred))"
   ]
  },
  {
   "cell_type": "code",
   "execution_count": 100,
   "metadata": {},
   "outputs": [],
   "source": [
    "# random forest does not increase the performance by much, thus we would need to do some feature engineering to improve the model"
   ]
  },
  {
   "cell_type": "code",
   "execution_count": null,
   "metadata": {},
   "outputs": [],
   "source": []
  }
 ],
 "metadata": {
  "kernelspec": {
   "display_name": "Python 3",
   "language": "python",
   "name": "python3"
  },
  "language_info": {
   "codemirror_mode": {
    "name": "ipython",
    "version": 3
   },
   "file_extension": ".py",
   "mimetype": "text/x-python",
   "name": "python",
   "nbconvert_exporter": "python",
   "pygments_lexer": "ipython3",
   "version": "3.10.7"
  }
 },
 "nbformat": 4,
 "nbformat_minor": 2
}
